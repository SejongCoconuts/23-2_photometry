{
 "cells": [
  {
   "cell_type": "code",
   "execution_count": 15,
   "metadata": {},
   "outputs": [
    {
     "name": "stdout",
     "output_type": "stream",
     "text": [
      "Read 733 lines of data\n"
     ]
    }
   ],
   "source": [
    "from DELCgen import *\n",
    "import scipy.stats as st\n",
    "\n",
    "\n",
    "datfile = \"4FGL.dat\"\n",
    "route = \"\"#\"/route/to/your/data/\"\n",
    "\n",
    "\n",
    "RedNoiseL,aliasTbin, tbin = 100,1,100 \n",
    "datalc = Load_Lightcurve(route+datfile,tbin)"
   ]
  },
  {
   "cell_type": "code",
   "execution_count": 16,
   "metadata": {},
   "outputs": [
    {
     "name": "stdout",
     "output_type": "stream",
     "text": [
      "\n",
      "### Fit successful: ###\n",
      "\n",
      "Gamma Function:\n",
      "kappa: 5.67\n",
      "theta: 5.96\n",
      "weight: 0.82\n",
      "\n",
      "Lognormal Function:\n",
      "exp(ln(mu)): 2.14\n",
      "ln(sigma): 0.31\n",
      "weight: 0.18\n"
     ]
    }
   ],
   "source": [
    "a=datalc.Fit_PDF(initial_params=[5.67, 5.96, 2.14, 0.31,0.82],model= None, fit_method = 'BFGS', nbins=None,verbose=True)"
   ]
  },
  {
   "cell_type": "code",
   "execution_count": 12,
   "metadata": {},
   "outputs": [],
   "source": [
    "kappa,theta,lnmu,lnsig,weight = 5.67, 5.96, 2.14, 0.31,0.82\n",
    "mix_model = Mixture_Dist([st.gamma,st.lognorm],[3,3],[[[2],[0]],[[2],[0],]])\n",
    "\n",
    "delc = datalc.Simulate_DE_Lightcurve()\n",
    "delc.Save_Lightcurve('lightcurve.dat')\n",
    "\n",
    "A,v_bend,a_low,a_high,c = np.exp(-13.31728051), np.exp(-3), 0.88446231,  0.93542963, 0\n",
    "delc_mod = Simulate_DE_Lightcurve(BendingPL, (A,v_bend,a_low,a_high,c), mix_model, (kappa, theta, lnsig, np.exp(lnmu), weight,1-weight),lightcurve=datalc)\n",
    "delc_mod.Save_Lightcurve('BPL.dat')\n",
    "\n",
    "A,v_bend,a_low,a_high,c = np.exp(-13.46912366), np.exp(-5), 0.93472589,  0.93472589, 0\n",
    "delc_mod = Simulate_DE_Lightcurve(BendingPL, (A,v_bend,a_low,a_high,c), mix_model, (kappa, theta, lnsig, np.exp(lnmu), weight,1-weight),lightcurve=datalc)\n",
    "delc_mod.Save_Lightcurve('PL.dat')\n",
    "\n",
    "# "
   ]
  },
  {
   "cell_type": "code",
   "execution_count": 13,
   "metadata": {},
   "outputs": [],
   "source": [
    "def CPL(v,A,alpha1,alpha2,c):\n",
    "    '''\n",
    "    Bending power law function - returns power at each value of v, \n",
    "    where v is an array (e.g. of frequencies)\n",
    "    \n",
    "    inputs:\n",
    "        v (array)       - input values\n",
    "        A (float)       - normalisation \n",
    "        v_bend (float)  - bending frequency\n",
    "        a_low ((float)  - low frequency index\n",
    "        a_high float)   - high frequency index\n",
    "        c (float)       - intercept/offset\n",
    "    output:\n",
    "        out (array)     - output powers\n",
    "    '''\n",
    "    numer = alpha1*(np.log(v))**2+alpha2*(np.log(v))+A\n",
    "    out = np.exp(numer)\n",
    "    return out\n"
   ]
  },
  {
   "cell_type": "code",
   "execution_count": 14,
   "metadata": {},
   "outputs": [],
   "source": [
    "A,alpha1,alpha2,c =  -12.61307271, 0.05740596, 0.27024857  ,0\n",
    "delc_mod = Simulate_DE_Lightcurve(CPL, (A,alpha1,alpha2,c), mix_model, (kappa, theta, lnsig, np.exp(lnmu), weight,1-weight),lightcurve=datalc)\n",
    "delc_mod.Save_Lightcurve('CPL.dat')"
   ]
  },
  {
   "cell_type": "code",
   "execution_count": null,
   "metadata": {},
   "outputs": [],
   "source": []
  }
 ],
 "metadata": {
  "kernelspec": {
   "display_name": "Python 3",
   "language": "python",
   "name": "python3"
  },
  "language_info": {
   "codemirror_mode": {
    "name": "ipython",
    "version": 2
   },
   "file_extension": ".py",
   "mimetype": "text/x-python",
   "name": "python",
   "nbconvert_exporter": "python",
   "pygments_lexer": "ipython2",
   "version": "2.7.18"
  },
  "orig_nbformat": 4
 },
 "nbformat": 4,
 "nbformat_minor": 2
}
